{
 "cells": [
  {
   "cell_type": "code",
   "execution_count": 1,
   "metadata": {},
   "outputs": [
    {
     "name": "stderr",
     "output_type": "stream",
     "text": [
      "/usr/local/lib/python3.6/site-packages/h5py/__init__.py:36: FutureWarning: Conversion of the second argument of issubdtype from `float` to `np.floating` is deprecated. In future, it will be treated as `np.float64 == np.dtype(float).type`.\n",
      "  from ._conv import register_converters as _register_converters\n",
      "Using TensorFlow backend.\n"
     ]
    }
   ],
   "source": [
    "import keras, os, shutil"
   ]
  },
  {
   "cell_type": "code",
   "execution_count": 2,
   "metadata": {},
   "outputs": [
    {
     "name": "stdout",
     "output_type": "stream",
     "text": [
      "directory already exists\n"
     ]
    }
   ],
   "source": [
    "original_dataset_dir = '/Users/kjprice/.kaggle/competitions/dogs-vs-cats/'\n",
    "base_dir = 'data/dogs-cats-small'\n",
    "\n",
    "try:\n",
    "    os.mkdir(base_dir)\n",
    "except:\n",
    "    print ('directory already exists')"
   ]
  },
  {
   "cell_type": "markdown",
   "metadata": {},
   "source": [
    "### Move data over"
   ]
  },
  {
   "cell_type": "code",
   "execution_count": 3,
   "metadata": {},
   "outputs": [
    {
     "name": "stdout",
     "output_type": "stream",
     "text": [
      "training, validation and test directories already exist\n",
      "Copied images over\n"
     ]
    }
   ],
   "source": [
    "\n",
    "train_dir = os.path.join(base_dir, 'train')\n",
    "validation_dir = os.path.join(base_dir, 'validation')\n",
    "test_dir = os.path.join(base_dir, 'test')\n",
    "\n",
    "# Directory with our training cat pictures\n",
    "train_cats_dir = os.path.join(train_dir, 'cats')\n",
    "# Directory with our training dog pictures\n",
    "train_dogs_dir = os.path.join(train_dir, 'dogs')\n",
    "# Directory with our validation cat pictures\n",
    "validation_cats_dir = os.path.join(validation_dir, 'cats')\n",
    "# Directory with our validation dog pictures\n",
    "validation_dogs_dir = os.path.join(validation_dir, 'dogs')\n",
    "# Directory with our validation cat pictures\n",
    "test_cats_dir = os.path.join(test_dir, 'cats')\n",
    "# Directory with our validation dog pictures\n",
    "test_dogs_dir = os.path.join(test_dir, 'dogs')\n",
    "\n",
    "try:\n",
    "    os.mkdir(train_dir)\n",
    "    os.mkdir(validation_dir)\n",
    "    os.mkdir(test_dir)\n",
    "    os.mkdir(train_cats_dir)\n",
    "    os.mkdir(train_dogs_dir)\n",
    "    os.mkdir(validation_cats_dir)\n",
    "    os.mkdir(validation_dogs_dir)\n",
    "    os.mkdir(test_cats_dir)\n",
    "    os.mkdir(test_dogs_dir)\n",
    "except:\n",
    "    print('training, validation and test directories already exist')\n",
    "    \n",
    "\n",
    "try:\n",
    "    # Copy first 1000 cat images to train_cats_dir\n",
    "    fnames = ['cat.{}.jpg'.format(i) for i in range(1000)]\n",
    "    for fname in fnames:\n",
    "        src = os.path.join(original_dataset_dir, 'train', fname)\n",
    "        dst = os.path.join(train_cats_dir, fname)\n",
    "        shutil.copyfile(src, dst)\n",
    "\n",
    "    # Copy next 500 cat images to validation_cats_dir\n",
    "    fnames = ['cat.{}.jpg'.format(i) for i in range(1000, 1500)]\n",
    "    for fname in fnames:\n",
    "        src = os.path.join(original_dataset_dir, 'train', fname)\n",
    "        dst = os.path.join(validation_cats_dir, fname)\n",
    "        shutil.copyfile(src, dst)\n",
    "\n",
    "    # Copy next 500 cat images to test_cats_dir\n",
    "    fnames = ['cat.{}.jpg'.format(i) for i in range(1500, 2000)]\n",
    "    for fname in fnames:\n",
    "        src = os.path.join(original_dataset_dir, 'train', fname)\n",
    "        dst = os.path.join(test_cats_dir, fname)\n",
    "        shutil.copyfile(src, dst)\n",
    "\n",
    "    # Copy first 1000 dog images to train_dogs_dir\n",
    "    fnames = ['dog.{}.jpg'.format(i) for i in range(1000)]\n",
    "    for fname in fnames:\n",
    "        src = os.path.join(original_dataset_dir, 'train', fname)\n",
    "        dst = os.path.join(train_dogs_dir, fname)\n",
    "        shutil.copyfile(src, dst)\n",
    "\n",
    "    # Copy next 500 dog images to validation_dogs_dir\n",
    "    fnames = ['dog.{}.jpg'.format(i) for i in range(1000, 1500)]\n",
    "    for fname in fnames:\n",
    "        src = os.path.join(original_dataset_dir, 'train', fname)\n",
    "        dst = os.path.join(validation_dogs_dir, fname)\n",
    "        shutil.copyfile(src, dst)\n",
    "\n",
    "    # Copy next 500 dog images to test_dogs_dir\n",
    "    fnames = ['dog.{}.jpg'.format(i) for i in range(1500, 2000)]\n",
    "    for fname in fnames:\n",
    "        src = os.path.join(original_dataset_dir, 'train', fname)\n",
    "        dst = os.path.join(test_dogs_dir, fname)\n",
    "        shutil.copyfile(src, dst)\n",
    "\n",
    "    print('Copied images over')\n",
    "except:\n",
    "    print('files already copied over')"
   ]
  },
  {
   "cell_type": "markdown",
   "metadata": {},
   "source": [
    "## Create Model"
   ]
  },
  {
   "cell_type": "code",
   "execution_count": 4,
   "metadata": {},
   "outputs": [],
   "source": [
    "from keras import layers\n",
    "from keras import models"
   ]
  },
  {
   "cell_type": "code",
   "execution_count": 5,
   "metadata": {},
   "outputs": [],
   "source": [
    "model = models.Sequential()"
   ]
  },
  {
   "cell_type": "code",
   "execution_count": 6,
   "metadata": {},
   "outputs": [],
   "source": [
    "model.add(layers.Conv2D(32, (3,3), activation='relu', input_shape=(150, 150, 3)))"
   ]
  },
  {
   "cell_type": "code",
   "execution_count": 7,
   "metadata": {},
   "outputs": [],
   "source": [
    "model.add(layers.MaxPooling2D((2,2)))"
   ]
  },
  {
   "cell_type": "code",
   "execution_count": 8,
   "metadata": {},
   "outputs": [],
   "source": [
    "model.add(layers.Conv2D(64, (3,3), activation='relu'))"
   ]
  },
  {
   "cell_type": "code",
   "execution_count": 9,
   "metadata": {},
   "outputs": [],
   "source": [
    "model.add(layers.MaxPooling2D((2,2)))"
   ]
  },
  {
   "cell_type": "code",
   "execution_count": 10,
   "metadata": {},
   "outputs": [],
   "source": [
    "model.add(layers.Conv2D(128, (3,3), activation='relu'))"
   ]
  },
  {
   "cell_type": "code",
   "execution_count": 11,
   "metadata": {},
   "outputs": [],
   "source": [
    "model.add(layers.MaxPooling2D((2,2)))"
   ]
  },
  {
   "cell_type": "code",
   "execution_count": 12,
   "metadata": {},
   "outputs": [],
   "source": [
    "model.add(layers.Conv2D(128, (3,3), activation='relu'))"
   ]
  },
  {
   "cell_type": "code",
   "execution_count": 13,
   "metadata": {},
   "outputs": [],
   "source": [
    "model.add(layers.MaxPooling2D((2,2)))"
   ]
  },
  {
   "cell_type": "code",
   "execution_count": 14,
   "metadata": {},
   "outputs": [],
   "source": [
    "model.add(layers.Flatten())"
   ]
  },
  {
   "cell_type": "code",
   "execution_count": 15,
   "metadata": {},
   "outputs": [],
   "source": [
    "model.add(layers.Dropout(0.5))"
   ]
  },
  {
   "cell_type": "code",
   "execution_count": 16,
   "metadata": {},
   "outputs": [],
   "source": [
    "model.add(layers.Dense(512, activation='relu'))"
   ]
  },
  {
   "cell_type": "code",
   "execution_count": 17,
   "metadata": {},
   "outputs": [],
   "source": [
    "model.add(layers.Dense(1, activation='sigmoid'))"
   ]
  },
  {
   "cell_type": "code",
   "execution_count": 18,
   "metadata": {},
   "outputs": [],
   "source": [
    "from keras import optimizers"
   ]
  },
  {
   "cell_type": "code",
   "execution_count": 19,
   "metadata": {},
   "outputs": [],
   "source": [
    "model.compile(optimizer=optimizers.RMSprop(lr=0.0004), loss='binary_crossentropy', metrics=['acc'])"
   ]
  },
  {
   "cell_type": "markdown",
   "metadata": {},
   "source": [
    "### Create data augmentation and generators"
   ]
  },
  {
   "cell_type": "code",
   "execution_count": 20,
   "metadata": {},
   "outputs": [],
   "source": [
    "from keras.preprocessing.image import ImageDataGenerator\n",
    "train_datagen = ImageDataGenerator(\n",
    "    rescale=1./255, # prefer small numbers\n",
    "    rotation_range=40, # degrees 0 - 180\n",
    "    width_shift_range=0.2, # fraction of total width to translate image randomly to the left and right\n",
    "    height_shift_range=0.2, # fraction of total height to translate image randomly to the up and down\n",
    "    shear_range=0.2, # randomly shear\n",
    "    zoom_range=0.2,\n",
    "    horizontal_flip=True,\n",
    "    fill_mode='nearest' # how are empty pixels (created by transformations) filled?\n",
    ")"
   ]
  },
  {
   "cell_type": "code",
   "execution_count": 21,
   "metadata": {},
   "outputs": [],
   "source": [
    "test_datagen = ImageDataGenerator(rescale=1./255) # do not augment test data"
   ]
  },
  {
   "cell_type": "code",
   "execution_count": 22,
   "metadata": {},
   "outputs": [
    {
     "name": "stdout",
     "output_type": "stream",
     "text": [
      "Found 2000 images belonging to 2 classes.\n"
     ]
    }
   ],
   "source": [
    "train_generator = train_datagen.flow_from_directory(\n",
    "    train_dir,\n",
    "    target_size=(150, 150), # arbitrary resize\n",
    "    batch_size=32,\n",
    "    class_mode='binary'\n",
    ")"
   ]
  },
  {
   "cell_type": "code",
   "execution_count": 23,
   "metadata": {},
   "outputs": [
    {
     "name": "stdout",
     "output_type": "stream",
     "text": [
      "Found 1000 images belonging to 2 classes.\n"
     ]
    }
   ],
   "source": [
    "test_generator = test_datagen.flow_from_directory(\n",
    "    test_dir,\n",
    "    batch_size=32,\n",
    "    target_size=(150, 150),\n",
    "    class_mode='binary'\n",
    ")"
   ]
  },
  {
   "cell_type": "markdown",
   "metadata": {},
   "source": [
    "### Here goes nothing"
   ]
  },
  {
   "cell_type": "code",
   "execution_count": 24,
   "metadata": {},
   "outputs": [
    {
     "name": "stdout",
     "output_type": "stream",
     "text": [
      "Epoch 1/100\n",
      "100/100 [==============================] - 113s 1s/step - loss: 0.6938 - acc: 0.5712 - val_loss: 0.6689 - val_acc: 0.5977\n",
      "Epoch 2/100\n",
      "100/100 [==============================] - 108s 1s/step - loss: 0.6529 - acc: 0.6266 - val_loss: 0.6561 - val_acc: 0.5780\n",
      "Epoch 3/100\n",
      "100/100 [==============================] - 106s 1s/step - loss: 0.6302 - acc: 0.6413 - val_loss: 0.6217 - val_acc: 0.6516\n",
      "Epoch 4/100\n",
      "100/100 [==============================] - 108s 1s/step - loss: 0.6095 - acc: 0.6753 - val_loss: 0.6304 - val_acc: 0.6497\n",
      "Epoch 5/100\n",
      "100/100 [==============================] - 108s 1s/step - loss: 0.6011 - acc: 0.6716 - val_loss: 0.6030 - val_acc: 0.6688\n",
      "Epoch 6/100\n",
      "100/100 [==============================] - 108s 1s/step - loss: 0.5878 - acc: 0.6881 - val_loss: 0.7325 - val_acc: 0.6142\n",
      "Epoch 7/100\n",
      "100/100 [==============================] - 108s 1s/step - loss: 0.5885 - acc: 0.6841 - val_loss: 0.5899 - val_acc: 0.6770\n",
      "Epoch 8/100\n",
      "100/100 [==============================] - 108s 1s/step - loss: 0.5734 - acc: 0.6922 - val_loss: 0.5677 - val_acc: 0.7157\n",
      "Epoch 9/100\n",
      "100/100 [==============================] - 109s 1s/step - loss: 0.5624 - acc: 0.7044 - val_loss: 0.5527 - val_acc: 0.7062\n",
      "Epoch 10/100\n",
      "100/100 [==============================] - 108s 1s/step - loss: 0.5571 - acc: 0.7225 - val_loss: 0.5753 - val_acc: 0.7176\n",
      "Epoch 11/100\n",
      "100/100 [==============================] - 108s 1s/step - loss: 0.5377 - acc: 0.7341 - val_loss: 0.5544 - val_acc: 0.7291\n",
      "Epoch 12/100\n",
      "100/100 [==============================] - 109s 1s/step - loss: 0.5422 - acc: 0.7297 - val_loss: 0.5442 - val_acc: 0.7234\n",
      "Epoch 13/100\n",
      "100/100 [==============================] - 119s 1s/step - loss: 0.5188 - acc: 0.7431 - val_loss: 0.5261 - val_acc: 0.7354\n",
      "Epoch 14/100\n",
      "100/100 [==============================] - 114s 1s/step - loss: 0.5223 - acc: 0.7400 - val_loss: 0.5402 - val_acc: 0.7367\n",
      "Epoch 15/100\n",
      "100/100 [==============================] - 107s 1s/step - loss: 0.5208 - acc: 0.7422 - val_loss: 0.5404 - val_acc: 0.7532\n",
      "Epoch 16/100\n",
      "100/100 [==============================] - 106s 1s/step - loss: 0.5195 - acc: 0.7512 - val_loss: 0.5880 - val_acc: 0.7272\n",
      "Epoch 17/100\n",
      "100/100 [==============================] - 106s 1s/step - loss: 0.4981 - acc: 0.7497 - val_loss: 0.5646 - val_acc: 0.7208\n",
      "Epoch 18/100\n",
      "100/100 [==============================] - 107s 1s/step - loss: 0.4963 - acc: 0.7562 - val_loss: 0.4923 - val_acc: 0.7824\n",
      "Epoch 19/100\n",
      "100/100 [==============================] - 108s 1s/step - loss: 0.4987 - acc: 0.7728 - val_loss: 0.4966 - val_acc: 0.7621\n",
      "Epoch 20/100\n",
      "100/100 [==============================] - 108s 1s/step - loss: 0.4841 - acc: 0.7716 - val_loss: 0.5467 - val_acc: 0.7570\n",
      "Epoch 21/100\n",
      "100/100 [==============================] - 109s 1s/step - loss: 0.4816 - acc: 0.7725 - val_loss: 0.4819 - val_acc: 0.7836\n",
      "Epoch 22/100\n",
      "100/100 [==============================] - 108s 1s/step - loss: 0.4677 - acc: 0.7812 - val_loss: 0.4824 - val_acc: 0.7627\n",
      "Epoch 23/100\n",
      "100/100 [==============================] - 108s 1s/step - loss: 0.4412 - acc: 0.7972 - val_loss: 0.5697 - val_acc: 0.7348\n",
      "Epoch 24/100\n",
      "100/100 [==============================] - 108s 1s/step - loss: 0.4647 - acc: 0.7819 - val_loss: 0.4799 - val_acc: 0.7779\n",
      "Epoch 25/100\n",
      "100/100 [==============================] - 109s 1s/step - loss: 0.4508 - acc: 0.7913 - val_loss: 0.5349 - val_acc: 0.7722\n",
      "Epoch 26/100\n",
      "100/100 [==============================] - 107s 1s/step - loss: 0.4271 - acc: 0.8106 - val_loss: 0.4835 - val_acc: 0.7811\n",
      "Epoch 27/100\n",
      "100/100 [==============================] - 106s 1s/step - loss: 0.4429 - acc: 0.7937 - val_loss: 0.5539 - val_acc: 0.7760\n",
      "Epoch 28/100\n",
      "100/100 [==============================] - 106s 1s/step - loss: 0.4511 - acc: 0.7894 - val_loss: 0.5140 - val_acc: 0.7697\n",
      "Epoch 29/100\n",
      "100/100 [==============================] - 107s 1s/step - loss: 0.4425 - acc: 0.7981 - val_loss: 0.5005 - val_acc: 0.7728\n",
      "Epoch 30/100\n",
      "100/100 [==============================] - 106s 1s/step - loss: 0.4357 - acc: 0.7944 - val_loss: 0.4879 - val_acc: 0.7716\n",
      "Epoch 31/100\n",
      "100/100 [==============================] - 108s 1s/step - loss: 0.4225 - acc: 0.8056 - val_loss: 0.4824 - val_acc: 0.7773\n",
      "Epoch 32/100\n",
      "100/100 [==============================] - 109s 1s/step - loss: 0.4033 - acc: 0.8125 - val_loss: 0.4907 - val_acc: 0.7925\n",
      "Epoch 33/100\n",
      "100/100 [==============================] - 108s 1s/step - loss: 0.4124 - acc: 0.8188 - val_loss: 0.4877 - val_acc: 0.7893\n",
      "Epoch 34/100\n",
      "100/100 [==============================] - 108s 1s/step - loss: 0.4210 - acc: 0.8087 - val_loss: 0.5180 - val_acc: 0.7437\n",
      "Epoch 35/100\n",
      "100/100 [==============================] - 109s 1s/step - loss: 0.4067 - acc: 0.8187 - val_loss: 0.4818 - val_acc: 0.7970\n",
      "Epoch 36/100\n",
      "100/100 [==============================] - 109s 1s/step - loss: 0.3907 - acc: 0.8234 - val_loss: 0.4493 - val_acc: 0.8071\n",
      "Epoch 37/100\n",
      "100/100 [==============================] - 108s 1s/step - loss: 0.3942 - acc: 0.8219 - val_loss: 0.4316 - val_acc: 0.8084\n",
      "Epoch 38/100\n",
      "100/100 [==============================] - 109s 1s/step - loss: 0.4074 - acc: 0.8194 - val_loss: 0.4317 - val_acc: 0.7931\n",
      "Epoch 39/100\n",
      "100/100 [==============================] - 108s 1s/step - loss: 0.3779 - acc: 0.8303 - val_loss: 0.4428 - val_acc: 0.8001\n",
      "Epoch 40/100\n",
      "100/100 [==============================] - 108s 1s/step - loss: 0.3823 - acc: 0.8331 - val_loss: 0.5019 - val_acc: 0.7906\n",
      "Epoch 41/100\n",
      "100/100 [==============================] - 109s 1s/step - loss: 0.3714 - acc: 0.8337 - val_loss: 0.4442 - val_acc: 0.8014\n",
      "Epoch 42/100\n",
      "100/100 [==============================] - 108s 1s/step - loss: 0.3650 - acc: 0.8384 - val_loss: 0.6133 - val_acc: 0.7849\n",
      "Epoch 43/100\n",
      "100/100 [==============================] - 108s 1s/step - loss: 0.3939 - acc: 0.8291 - val_loss: 0.4297 - val_acc: 0.8166\n",
      "Epoch 44/100\n",
      "100/100 [==============================] - 109s 1s/step - loss: 0.3732 - acc: 0.8334 - val_loss: 0.4898 - val_acc: 0.7931\n",
      "Epoch 45/100\n",
      "100/100 [==============================] - 109s 1s/step - loss: 0.3678 - acc: 0.8356 - val_loss: 0.5277 - val_acc: 0.7906\n",
      "Epoch 46/100\n",
      "100/100 [==============================] - 108s 1s/step - loss: 0.3596 - acc: 0.8403 - val_loss: 0.4706 - val_acc: 0.8065\n",
      "Epoch 47/100\n",
      "100/100 [==============================] - 108s 1s/step - loss: 0.3677 - acc: 0.8381 - val_loss: 0.5261 - val_acc: 0.7995\n",
      "Epoch 48/100\n",
      "100/100 [==============================] - 109s 1s/step - loss: 0.3497 - acc: 0.8453 - val_loss: 0.4737 - val_acc: 0.8096\n",
      "Epoch 49/100\n",
      "100/100 [==============================] - 109s 1s/step - loss: 0.3396 - acc: 0.8475 - val_loss: 0.5042 - val_acc: 0.8109\n",
      "Epoch 50/100\n",
      "100/100 [==============================] - 109s 1s/step - loss: 0.3523 - acc: 0.8456 - val_loss: 0.4203 - val_acc: 0.8242\n",
      "Epoch 51/100\n",
      "100/100 [==============================] - 108s 1s/step - loss: 0.3497 - acc: 0.8434 - val_loss: 0.5386 - val_acc: 0.7931\n",
      "Epoch 52/100\n",
      "100/100 [==============================] - 109s 1s/step - loss: 0.3279 - acc: 0.8641 - val_loss: 0.5234 - val_acc: 0.7951\n",
      "Epoch 53/100\n",
      "100/100 [==============================] - 108s 1s/step - loss: 0.3410 - acc: 0.8541 - val_loss: 0.4992 - val_acc: 0.8166\n",
      "Epoch 54/100\n",
      "100/100 [==============================] - 109s 1s/step - loss: 0.3180 - acc: 0.8681 - val_loss: 0.5282 - val_acc: 0.8115\n",
      "Epoch 55/100\n",
      "100/100 [==============================] - 108s 1s/step - loss: 0.3309 - acc: 0.8566 - val_loss: 0.5415 - val_acc: 0.8166\n",
      "Epoch 56/100\n",
      "100/100 [==============================] - 109s 1s/step - loss: 0.3095 - acc: 0.8738 - val_loss: 0.4216 - val_acc: 0.8230\n",
      "Epoch 57/100\n",
      "100/100 [==============================] - 109s 1s/step - loss: 0.3199 - acc: 0.8597 - val_loss: 0.4234 - val_acc: 0.8344\n",
      "Epoch 58/100\n",
      "100/100 [==============================] - 112s 1s/step - loss: 0.3226 - acc: 0.8609 - val_loss: 0.4455 - val_acc: 0.8293\n",
      "Epoch 59/100\n",
      "100/100 [==============================] - 108s 1s/step - loss: 0.3291 - acc: 0.8609 - val_loss: 0.4775 - val_acc: 0.8096\n",
      "Epoch 60/100\n",
      "100/100 [==============================] - 107s 1s/step - loss: 0.3156 - acc: 0.8644 - val_loss: 0.7962 - val_acc: 0.7227\n",
      "Epoch 61/100\n",
      "100/100 [==============================] - 107s 1s/step - loss: 0.3089 - acc: 0.8666 - val_loss: 0.4717 - val_acc: 0.8109\n"
     ]
    },
    {
     "name": "stdout",
     "output_type": "stream",
     "text": [
      "Epoch 62/100\n",
      "100/100 [==============================] - 107s 1s/step - loss: 0.3116 - acc: 0.8622 - val_loss: 0.5867 - val_acc: 0.8179\n",
      "Epoch 63/100\n",
      "100/100 [==============================] - 108s 1s/step - loss: 0.3082 - acc: 0.8709 - val_loss: 0.7241 - val_acc: 0.7792\n",
      "Epoch 64/100\n",
      "100/100 [==============================] - 108s 1s/step - loss: 0.3004 - acc: 0.8747 - val_loss: 0.8609 - val_acc: 0.7779\n",
      "Epoch 65/100\n",
      "100/100 [==============================] - 107s 1s/step - loss: 0.3132 - acc: 0.8669 - val_loss: 0.5843 - val_acc: 0.7824\n",
      "Epoch 66/100\n",
      "100/100 [==============================] - 107s 1s/step - loss: 0.3111 - acc: 0.8650 - val_loss: 0.4762 - val_acc: 0.8319\n",
      "Epoch 67/100\n",
      "100/100 [==============================] - 107s 1s/step - loss: 0.2958 - acc: 0.8797 - val_loss: 1.1631 - val_acc: 0.7272\n",
      "Epoch 68/100\n",
      "100/100 [==============================] - 108s 1s/step - loss: 0.3037 - acc: 0.8706 - val_loss: 0.5775 - val_acc: 0.7989\n",
      "Epoch 69/100\n",
      "100/100 [==============================] - 109s 1s/step - loss: 0.3061 - acc: 0.8738 - val_loss: 0.4221 - val_acc: 0.8439\n",
      "Epoch 70/100\n",
      "100/100 [==============================] - 109s 1s/step - loss: 0.2885 - acc: 0.8800 - val_loss: 0.5031 - val_acc: 0.8249\n",
      "Epoch 71/100\n",
      "100/100 [==============================] - 109s 1s/step - loss: 0.2966 - acc: 0.8797 - val_loss: 0.4228 - val_acc: 0.8299\n",
      "Epoch 72/100\n",
      "100/100 [==============================] - 109s 1s/step - loss: 0.2918 - acc: 0.8813 - val_loss: 0.4207 - val_acc: 0.8401\n",
      "Epoch 73/100\n",
      "100/100 [==============================] - 108s 1s/step - loss: 0.2937 - acc: 0.8772 - val_loss: 0.5225 - val_acc: 0.8338\n",
      "Epoch 74/100\n",
      "100/100 [==============================] - 108s 1s/step - loss: 0.2989 - acc: 0.8797 - val_loss: 0.3947 - val_acc: 0.8464\n",
      "Epoch 75/100\n",
      "100/100 [==============================] - 109s 1s/step - loss: 0.2801 - acc: 0.8837 - val_loss: 0.4128 - val_acc: 0.8325\n",
      "Epoch 76/100\n",
      "100/100 [==============================] - 109s 1s/step - loss: 0.2906 - acc: 0.8809 - val_loss: 0.4138 - val_acc: 0.8414\n",
      "Epoch 77/100\n",
      "100/100 [==============================] - 109s 1s/step - loss: 0.2791 - acc: 0.8841 - val_loss: 0.4946 - val_acc: 0.8369\n",
      "Epoch 78/100\n",
      "100/100 [==============================] - 108s 1s/step - loss: 0.2713 - acc: 0.8838 - val_loss: 0.4641 - val_acc: 0.8280\n",
      "Epoch 79/100\n",
      "100/100 [==============================] - 109s 1s/step - loss: 0.2884 - acc: 0.8869 - val_loss: 0.4567 - val_acc: 0.8439\n",
      "Epoch 80/100\n",
      "100/100 [==============================] - 109s 1s/step - loss: 0.2761 - acc: 0.8847 - val_loss: 0.4827 - val_acc: 0.8534\n",
      "Epoch 81/100\n",
      "100/100 [==============================] - 109s 1s/step - loss: 0.2804 - acc: 0.8822 - val_loss: 0.4881 - val_acc: 0.8242\n",
      "Epoch 82/100\n",
      "100/100 [==============================] - 108s 1s/step - loss: 0.2624 - acc: 0.8897 - val_loss: 0.4307 - val_acc: 0.8357\n",
      "Epoch 83/100\n",
      "100/100 [==============================] - 108s 1s/step - loss: 0.2761 - acc: 0.8888 - val_loss: 0.4576 - val_acc: 0.8509\n",
      "Epoch 84/100\n",
      "100/100 [==============================] - 108s 1s/step - loss: 0.2846 - acc: 0.8822 - val_loss: 0.4050 - val_acc: 0.8426\n",
      "Epoch 85/100\n",
      "100/100 [==============================] - 111s 1s/step - loss: 0.2773 - acc: 0.8900 - val_loss: 0.4497 - val_acc: 0.8331\n",
      "Epoch 86/100\n",
      "100/100 [==============================] - 107s 1s/step - loss: 0.2888 - acc: 0.8884 - val_loss: 0.4230 - val_acc: 0.8420\n",
      "Epoch 87/100\n",
      "100/100 [==============================] - 107s 1s/step - loss: 0.2577 - acc: 0.8950 - val_loss: 0.4466 - val_acc: 0.8223\n",
      "Epoch 88/100\n",
      "100/100 [==============================] - 109s 1s/step - loss: 0.2776 - acc: 0.8887 - val_loss: 0.4939 - val_acc: 0.8293\n",
      "Epoch 89/100\n",
      "100/100 [==============================] - 107s 1s/step - loss: 0.2683 - acc: 0.8875 - val_loss: 0.4708 - val_acc: 0.8464\n",
      "Epoch 90/100\n",
      "100/100 [==============================] - 108s 1s/step - loss: 0.2554 - acc: 0.8937 - val_loss: 0.5154 - val_acc: 0.8407\n",
      "Epoch 91/100\n",
      "100/100 [==============================] - 108s 1s/step - loss: 0.2689 - acc: 0.8866 - val_loss: 0.4438 - val_acc: 0.8331\n",
      "Epoch 92/100\n",
      "100/100 [==============================] - 107s 1s/step - loss: 0.2631 - acc: 0.8937 - val_loss: 0.4248 - val_acc: 0.8509\n",
      "Epoch 93/100\n",
      "100/100 [==============================] - 107s 1s/step - loss: 0.2516 - acc: 0.9019 - val_loss: 0.4677 - val_acc: 0.8553\n",
      "Epoch 94/100\n",
      "100/100 [==============================] - 109s 1s/step - loss: 0.2684 - acc: 0.8903 - val_loss: 0.5761 - val_acc: 0.8579\n",
      "Epoch 95/100\n",
      "100/100 [==============================] - 109s 1s/step - loss: 0.2536 - acc: 0.8950 - val_loss: 0.4852 - val_acc: 0.8350\n",
      "Epoch 96/100\n",
      "100/100 [==============================] - 109s 1s/step - loss: 0.2498 - acc: 0.8938 - val_loss: 0.7201 - val_acc: 0.8096\n",
      "Epoch 97/100\n",
      "100/100 [==============================] - 108s 1s/step - loss: 0.2506 - acc: 0.8997 - val_loss: 0.4142 - val_acc: 0.8503\n",
      "Epoch 98/100\n",
      "100/100 [==============================] - 110s 1s/step - loss: 0.2659 - acc: 0.8944 - val_loss: 0.4503 - val_acc: 0.8420\n",
      "Epoch 99/100\n",
      "100/100 [==============================] - 109s 1s/step - loss: 0.2636 - acc: 0.8875 - val_loss: 0.4977 - val_acc: 0.8211\n",
      "Epoch 100/100\n",
      "100/100 [==============================] - 109s 1s/step - loss: 0.2477 - acc: 0.9019 - val_loss: 0.5977 - val_acc: 0.8420\n"
     ]
    }
   ],
   "source": [
    "history = model.fit_generator(\n",
    "    train_generator,\n",
    "    steps_per_epoch=100,\n",
    "    epochs=100,\n",
    "    validation_data=test_generator,\n",
    "    validation_steps=50\n",
    ")"
   ]
  },
  {
   "cell_type": "code",
   "execution_count": 25,
   "metadata": {},
   "outputs": [],
   "source": [
    "model.save('data/cats_and_dogs.h5')"
   ]
  },
  {
   "cell_type": "code",
   "execution_count": null,
   "metadata": {},
   "outputs": [],
   "source": []
  }
 ],
 "metadata": {
  "kernelspec": {
   "display_name": "Python 3",
   "language": "python",
   "name": "python3"
  },
  "language_info": {
   "codemirror_mode": {
    "name": "ipython",
    "version": 3
   },
   "file_extension": ".py",
   "mimetype": "text/x-python",
   "name": "python",
   "nbconvert_exporter": "python",
   "pygments_lexer": "ipython3",
   "version": "3.6.5"
  }
 },
 "nbformat": 4,
 "nbformat_minor": 2
}
