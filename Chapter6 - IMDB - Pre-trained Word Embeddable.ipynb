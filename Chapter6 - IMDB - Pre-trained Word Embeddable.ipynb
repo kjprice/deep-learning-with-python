{
 "cells": [
  {
   "cell_type": "code",
   "execution_count": 1,
   "metadata": {},
   "outputs": [],
   "source": [
    "import os"
   ]
  },
  {
   "cell_type": "code",
   "execution_count": 2,
   "metadata": {},
   "outputs": [],
   "source": [
    "imdb_dir = \"./data/aclImdb\""
   ]
  },
  {
   "cell_type": "code",
   "execution_count": 3,
   "metadata": {},
   "outputs": [],
   "source": [
    "train_dir = os.path.join(imdb_dir, 'train')"
   ]
  },
  {
   "cell_type": "markdown",
   "metadata": {},
   "source": [
    "### Extract labels and data from files"
   ]
  },
  {
   "cell_type": "code",
   "execution_count": 4,
   "metadata": {},
   "outputs": [],
   "source": [
    "labels = []\n",
    "texts = []"
   ]
  },
  {
   "cell_type": "code",
   "execution_count": 5,
   "metadata": {},
   "outputs": [],
   "source": [
    "for label_type in ['neg', 'pos']:\n",
    "    dir_name = os.path.join(train_dir, label_type)\n",
    "    for fname in os.listdir(dir_name):\n",
    "        if fname[-4:] == '.txt':\n",
    "            f = open(os.path.join(dir_name, fname))\n",
    "            texts.append(f.read())\n",
    "            f.close()\n",
    "            if label_type == 'neg':\n",
    "                labels.append(0)\n",
    "            else:\n",
    "                labels.append(1)"
   ]
  },
  {
   "cell_type": "code",
   "execution_count": 6,
   "metadata": {},
   "outputs": [
    {
     "data": {
      "text/plain": [
       "25000"
      ]
     },
     "execution_count": 6,
     "metadata": {},
     "output_type": "execute_result"
    }
   ],
   "source": [
    "len(labels)"
   ]
  },
  {
   "cell_type": "code",
   "execution_count": 7,
   "metadata": {},
   "outputs": [
    {
     "data": {
      "text/plain": [
       "25000"
      ]
     },
     "execution_count": 7,
     "metadata": {},
     "output_type": "execute_result"
    }
   ],
   "source": [
    "len(texts)"
   ]
  },
  {
   "cell_type": "code",
   "execution_count": 8,
   "metadata": {},
   "outputs": [
    {
     "data": {
      "text/plain": [
       "\"Story of a man who has unnatural feelings for a pig. Starts out with a opening scene that is a terrific example of absurd comedy. A formal orchestra audience is turned into an insane, violent mob by the crazy chantings of it's singers. Unfortunately it stays absurd the WHOLE time with no general narrative eventually making it just too off putting. Even those from the era should be turned off. The cryptic dialogue would make Shakespeare seem easy to a third grader. On a technical level it's better than you might think with some good cinematography by future great Vilmos Zsigmond. Future stars Sally Kirkland and Frederic Forrest can be seen briefly.\""
      ]
     },
     "execution_count": 8,
     "metadata": {},
     "output_type": "execute_result"
    }
   ],
   "source": [
    "texts[0]"
   ]
  },
  {
   "cell_type": "code",
   "execution_count": 9,
   "metadata": {},
   "outputs": [],
   "source": [
    "text_length = [len(text.split()) for text in texts]"
   ]
  },
  {
   "cell_type": "code",
   "execution_count": 10,
   "metadata": {},
   "outputs": [
    {
     "data": {
      "text/plain": [
       "<Figure size 640x480 with 1 Axes>"
      ]
     },
     "metadata": {},
     "output_type": "display_data"
    }
   ],
   "source": [
    "import matplotlib.pyplot as plt\n",
    "plt.hist(text_length, bins=40)\n",
    "\n",
    "plt.show()"
   ]
  },
  {
   "cell_type": "markdown",
   "metadata": {},
   "source": [
    "### Tokenize data\n"
   ]
  },
  {
   "cell_type": "code",
   "execution_count": 11,
   "metadata": {},
   "outputs": [
    {
     "name": "stderr",
     "output_type": "stream",
     "text": [
      "/usr/local/lib/python3.6/site-packages/h5py/__init__.py:36: FutureWarning: Conversion of the second argument of issubdtype from `float` to `np.floating` is deprecated. In future, it will be treated as `np.float64 == np.dtype(float).type`.\n",
      "  from ._conv import register_converters as _register_converters\n",
      "Using TensorFlow backend.\n"
     ]
    }
   ],
   "source": [
    "from keras.preprocessing.text import Tokenizer\n",
    "from keras.preprocessing.sequence import pad_sequences\n",
    "import numpy as np"
   ]
  },
  {
   "cell_type": "code",
   "execution_count": 12,
   "metadata": {},
   "outputs": [],
   "source": [
    "maxlen = 150 # cuts off text after this number of words\n",
    "training_samples = 15000\n",
    "validation_samples = 10000\n",
    "max_words = 10000"
   ]
  },
  {
   "cell_type": "code",
   "execution_count": 13,
   "metadata": {},
   "outputs": [],
   "source": [
    "tokenizer = Tokenizer(num_words=max_words)"
   ]
  },
  {
   "cell_type": "code",
   "execution_count": 14,
   "metadata": {},
   "outputs": [],
   "source": [
    "tokenizer.fit_on_texts(texts)\n",
    "sequences = tokenizer.texts_to_sequences(texts)"
   ]
  },
  {
   "cell_type": "code",
   "execution_count": 15,
   "metadata": {},
   "outputs": [
    {
     "name": "stdout",
     "output_type": "stream",
     "text": [
      "Found 88582 tokens\n"
     ]
    }
   ],
   "source": [
    "word_index = tokenizer.word_index\n",
    "print('Found {} tokens'.format(len(word_index)))"
   ]
  },
  {
   "cell_type": "markdown",
   "metadata": {},
   "source": [
    "### Create data and labels from tokens"
   ]
  },
  {
   "cell_type": "code",
   "execution_count": 16,
   "metadata": {},
   "outputs": [],
   "source": [
    "data = pad_sequences(sequences, maxlen=maxlen)"
   ]
  },
  {
   "cell_type": "code",
   "execution_count": 17,
   "metadata": {},
   "outputs": [],
   "source": [
    "labels = np.asarray(labels)"
   ]
  },
  {
   "cell_type": "code",
   "execution_count": 18,
   "metadata": {},
   "outputs": [
    {
     "name": "stdout",
     "output_type": "stream",
     "text": [
      "Shape of data tensor: (25000, 150)\n"
     ]
    }
   ],
   "source": [
    "print('Shape of data tensor:', data.shape)"
   ]
  },
  {
   "cell_type": "code",
   "execution_count": 19,
   "metadata": {},
   "outputs": [
    {
     "name": "stdout",
     "output_type": "stream",
     "text": [
      "Shape of label tensor (25000,)\n"
     ]
    }
   ],
   "source": [
    "print('Shape of label tensor', labels.shape)"
   ]
  },
  {
   "cell_type": "markdown",
   "metadata": {},
   "source": [
    "#### Randomize the order of training data"
   ]
  },
  {
   "cell_type": "code",
   "execution_count": 20,
   "metadata": {},
   "outputs": [],
   "source": [
    "indices = np.arange(data.shape[0])"
   ]
  },
  {
   "cell_type": "code",
   "execution_count": 21,
   "metadata": {},
   "outputs": [],
   "source": [
    "np.random.shuffle(indices)"
   ]
  },
  {
   "cell_type": "code",
   "execution_count": 22,
   "metadata": {},
   "outputs": [
    {
     "data": {
      "text/plain": [
       "numpy.ndarray"
      ]
     },
     "execution_count": 22,
     "metadata": {},
     "output_type": "execute_result"
    }
   ],
   "source": [
    "type(data)"
   ]
  },
  {
   "cell_type": "code",
   "execution_count": 23,
   "metadata": {},
   "outputs": [],
   "source": [
    "data = data[indices]"
   ]
  },
  {
   "cell_type": "code",
   "execution_count": 24,
   "metadata": {},
   "outputs": [],
   "source": [
    "labels = labels[indices]"
   ]
  },
  {
   "cell_type": "markdown",
   "metadata": {},
   "source": [
    "### Split training and validation data"
   ]
  },
  {
   "cell_type": "code",
   "execution_count": 25,
   "metadata": {},
   "outputs": [],
   "source": [
    "x_train =  data[:training_samples]\n",
    "y_train = labels[:training_samples]\n",
    "x_val = data[training_samples: training_samples + validation_samples]\n",
    "y_val = labels[training_samples: training_samples + validation_samples]"
   ]
  },
  {
   "cell_type": "markdown",
   "metadata": {},
   "source": [
    "### Pull down pre-trained word-embeddings (GloVe)"
   ]
  },
  {
   "cell_type": "code",
   "execution_count": 26,
   "metadata": {},
   "outputs": [
    {
     "data": {
      "text/plain": [
       "<function TextIOWrapper.close()>"
      ]
     },
     "execution_count": 26,
     "metadata": {},
     "output_type": "execute_result"
    }
   ],
   "source": [
    "embedding_index = {}\n",
    "f = open(os.path.expanduser('~/Library/Projects/data-science/data/GloVe-1.2/vectors.txt'))\n",
    "for line in f:\n",
    "    values = line.split()\n",
    "    word = values[0]\n",
    "    coefs = np.asarray(values[1:], dtype='float32')\n",
    "    embedding_index[word] = coefs\n",
    "f.close"
   ]
  },
  {
   "cell_type": "code",
   "execution_count": 27,
   "metadata": {},
   "outputs": [
    {
     "name": "stdout",
     "output_type": "stream",
     "text": [
      "Found 71291 words\n"
     ]
    }
   ],
   "source": [
    "print('Found {} words'.format(len(embedding_index)))"
   ]
  },
  {
   "cell_type": "markdown",
   "metadata": {},
   "source": [
    "### Prepare GloVe matrix"
   ]
  },
  {
   "cell_type": "code",
   "execution_count": 28,
   "metadata": {},
   "outputs": [],
   "source": [
    "embedding_dim = 50\n",
    "\n",
    "embedding_matrix = np.zeros((max_words, embedding_dim))\n",
    "# using words from our own word_index, build a matrix from GloVe word vectors\n",
    "for word, i in word_index.items():\n",
    "    if i >= max_words:\n",
    "        break\n",
    "    embedding_vector = embedding_index.get(word)\n",
    "    if embedding_vector is not None:\n",
    "        embedding_matrix[i] = embedding_vector"
   ]
  },
  {
   "cell_type": "markdown",
   "metadata": {},
   "source": [
    "# Create Model On Pretrained Word Embedding"
   ]
  },
  {
   "cell_type": "code",
   "execution_count": 29,
   "metadata": {},
   "outputs": [],
   "source": [
    "from keras.models import Sequential\n",
    "from keras.layers import Dense, Embedding, Flatten, Dropout\n",
    "\n",
    "model = Sequential()\n",
    "model.add(Embedding(max_words, embedding_dim, input_length=maxlen))\n",
    "model.add(Dropout(.2))\n",
    "model.add(Flatten())\n",
    "model.add(Dense(32, activation='relu'))\n",
    "model.add(Dense(1, activation='sigmoid'))"
   ]
  },
  {
   "cell_type": "code",
   "execution_count": 30,
   "metadata": {},
   "outputs": [
    {
     "name": "stdout",
     "output_type": "stream",
     "text": [
      "_________________________________________________________________\n",
      "Layer (type)                 Output Shape              Param #   \n",
      "=================================================================\n",
      "embedding_1 (Embedding)      (None, 150, 50)           500000    \n",
      "_________________________________________________________________\n",
      "dropout_1 (Dropout)          (None, 150, 50)           0         \n",
      "_________________________________________________________________\n",
      "flatten_1 (Flatten)          (None, 7500)              0         \n",
      "_________________________________________________________________\n",
      "dense_1 (Dense)              (None, 32)                240032    \n",
      "_________________________________________________________________\n",
      "dense_2 (Dense)              (None, 1)                 33        \n",
      "=================================================================\n",
      "Total params: 740,065\n",
      "Trainable params: 740,065\n",
      "Non-trainable params: 0\n",
      "_________________________________________________________________\n"
     ]
    }
   ],
   "source": [
    "model.summary()"
   ]
  },
  {
   "cell_type": "markdown",
   "metadata": {},
   "source": [
    "### Set Embedded Words"
   ]
  },
  {
   "cell_type": "code",
   "execution_count": 31,
   "metadata": {},
   "outputs": [],
   "source": [
    "model.layers[0].set_weights([embedding_matrix])"
   ]
  },
  {
   "cell_type": "code",
   "execution_count": 32,
   "metadata": {},
   "outputs": [],
   "source": [
    "model.layers[0].trainable=False"
   ]
  },
  {
   "cell_type": "markdown",
   "metadata": {},
   "source": [
    "### Compile and run"
   ]
  },
  {
   "cell_type": "code",
   "execution_count": 33,
   "metadata": {},
   "outputs": [],
   "source": [
    "def compile():\n",
    "    model.compile(\n",
    "        optimizer='rmsprop',\n",
    "        loss='binary_crossentropy',\n",
    "        metrics=['acc']\n",
    "    )"
   ]
  },
  {
   "cell_type": "code",
   "execution_count": 34,
   "metadata": {},
   "outputs": [],
   "source": [
    "def fit():\n",
    "    return model.fit(\n",
    "        x_train,\n",
    "        y_train,\n",
    "        epochs=10,\n",
    "        batch_size=32,\n",
    "        validation_data=[x_val, y_val]\n",
    "    )"
   ]
  },
  {
   "cell_type": "code",
   "execution_count": 35,
   "metadata": {},
   "outputs": [
    {
     "name": "stdout",
     "output_type": "stream",
     "text": [
      "Train on 15000 samples, validate on 10000 samples\n",
      "Epoch 1/10\n",
      "15000/15000 [==============================] - 3s 171us/step - loss: 0.7007 - acc: 0.5045 - val_loss: 0.6930 - val_acc: 0.5126\n",
      "Epoch 2/10\n",
      "15000/15000 [==============================] - 2s 137us/step - loss: 0.6894 - acc: 0.5376 - val_loss: 0.6774 - val_acc: 0.5729\n",
      "Epoch 3/10\n",
      "15000/15000 [==============================] - 2s 135us/step - loss: 0.6557 - acc: 0.6207 - val_loss: 0.6788 - val_acc: 0.5892\n",
      "Epoch 4/10\n",
      "15000/15000 [==============================] - 2s 135us/step - loss: 0.6139 - acc: 0.6609 - val_loss: 0.6610 - val_acc: 0.6257\n",
      "Epoch 5/10\n",
      "15000/15000 [==============================] - 2s 135us/step - loss: 0.5732 - acc: 0.6990 - val_loss: 0.6566 - val_acc: 0.6183\n",
      "Epoch 6/10\n",
      "15000/15000 [==============================] - 2s 143us/step - loss: 0.5352 - acc: 0.7228 - val_loss: 0.6870 - val_acc: 0.6296\n",
      "Epoch 7/10\n",
      "15000/15000 [==============================] - 2s 141us/step - loss: 0.4984 - acc: 0.7483 - val_loss: 0.6951 - val_acc: 0.6331\n",
      "Epoch 8/10\n",
      "15000/15000 [==============================] - 2s 135us/step - loss: 0.4637 - acc: 0.7662 - val_loss: 0.7109 - val_acc: 0.6143\n",
      "Epoch 9/10\n",
      "15000/15000 [==============================] - 2s 138us/step - loss: 0.4240 - acc: 0.7943 - val_loss: 0.8260 - val_acc: 0.6043\n",
      "Epoch 10/10\n",
      "15000/15000 [==============================] - 2s 167us/step - loss: 0.3984 - acc: 0.8095 - val_loss: 0.8334 - val_acc: 0.6119\n"
     ]
    }
   ],
   "source": [
    "compile()\n",
    "history = fit()"
   ]
  },
  {
   "cell_type": "code",
   "execution_count": 36,
   "metadata": {},
   "outputs": [],
   "source": [
    "model.save_weights('./data/glove_model.h5')"
   ]
  },
  {
   "cell_type": "markdown",
   "metadata": {},
   "source": [
    "### Make simple prediction"
   ]
  },
  {
   "cell_type": "code",
   "execution_count": 37,
   "metadata": {},
   "outputs": [
    {
     "data": {
      "text/plain": [
       "array([[0.12732324],\n",
       "       [0.30516914],\n",
       "       [0.01334711],\n",
       "       ...,\n",
       "       [0.6166905 ],\n",
       "       [0.2450055 ],\n",
       "       [0.98010033]], dtype=float32)"
      ]
     },
     "execution_count": 37,
     "metadata": {},
     "output_type": "execute_result"
    }
   ],
   "source": [
    "model.predict(x_val)"
   ]
  },
  {
   "cell_type": "code",
   "execution_count": 38,
   "metadata": {},
   "outputs": [
    {
     "data": {
      "text/plain": [
       "array([0, 0, 0, ..., 0, 0, 1])"
      ]
     },
     "execution_count": 38,
     "metadata": {},
     "output_type": "execute_result"
    }
   ],
   "source": [
    "y_val"
   ]
  },
  {
   "cell_type": "markdown",
   "metadata": {},
   "source": [
    "### Plot Results"
   ]
  },
  {
   "cell_type": "code",
   "execution_count": 39,
   "metadata": {},
   "outputs": [],
   "source": [
    "import matplotlib.pyplot as plt\n",
    "\n",
    "def create_plots(history):\n",
    "    acc = history['acc']\n",
    "    loss = history['loss']\n",
    "    val_loss = history['val_loss']\n",
    "    val_acc = history['val_acc']\n",
    "\n",
    "    epochs = range(1, (len(acc) + 1))\n",
    "    plt.plot(epochs, acc, 'r', label='Training Accuracy')\n",
    "    plt.plot(epochs, val_acc, 'bo', label='Validation Accuracy')\n",
    "    plt.legend()\n",
    "    plt.figure()\n",
    "\n",
    "    plt.plot(epochs, loss, 'r', label='Training Loss')\n",
    "    plt.plot(epochs, val_loss, 'bo', label='Validation Loss')\n",
    "    plt.legend()\n",
    "\n",
    "    plt.show()"
   ]
  },
  {
   "cell_type": "code",
   "execution_count": 40,
   "metadata": {},
   "outputs": [
    {
     "data": {
      "image/png": "[encoded data removed]",
      "text/plain": [
       "<Figure size 432x288 with 1 Axes>"
      ]
     },
     "metadata": {},
     "output_type": "display_data"
    },
    {
     "data": {
      "image/png": "[encoded data removed]",
      "text/plain": [
       "<Figure size 432x288 with 1 Axes>"
      ]
     },
     "metadata": {},
     "output_type": "display_data"
    }
   ],
   "source": [
    "create_plots(history.history)"
   ]
  },
  {
   "cell_type": "markdown",
   "metadata": {},
   "source": [
    "## Create Model With Our Own Embedding"
   ]
  },
  {
   "cell_type": "code",
   "execution_count": 41,
   "metadata": {},
   "outputs": [],
   "source": [
    "model = Sequential()\n",
    "model.add(Embedding(max_words, 100, input_length=maxlen))\n",
    "model.add(Flatten())\n",
    "model.add(Dense(32, activation='relu'))\n",
    "model.add(Dense(1, activation='sigmoid'))"
   ]
  },
  {
   "cell_type": "code",
   "execution_count": 42,
   "metadata": {},
   "outputs": [
    {
     "name": "stdout",
     "output_type": "stream",
     "text": [
      "Train on 15000 samples, validate on 10000 samples\n",
      "Epoch 1/10\n",
      "15000/15000 [==============================] - 8s 500us/step - loss: 0.4401 - acc: 0.7845 - val_loss: 0.3197 - val_acc: 0.8614\n",
      "Epoch 2/10\n",
      "15000/15000 [==============================] - 7s 450us/step - loss: 0.1142 - acc: 0.9606 - val_loss: 0.3783 - val_acc: 0.8489\n",
      "Epoch 3/10\n",
      "15000/15000 [==============================] - 7s 447us/step - loss: 0.0111 - acc: 0.9973 - val_loss: 0.5375 - val_acc: 0.8437\n",
      "Epoch 4/10\n",
      "15000/15000 [==============================] - 7s 451us/step - loss: 8.1056e-04 - acc: 0.9998 - val_loss: 0.7259 - val_acc: 0.8418\n",
      "Epoch 5/10\n",
      "15000/15000 [==============================] - 7s 449us/step - loss: 4.1166e-04 - acc: 0.9999 - val_loss: 0.8246 - val_acc: 0.8418\n",
      "Epoch 6/10\n",
      "15000/15000 [==============================] - 7s 446us/step - loss: 6.7929e-06 - acc: 1.0000 - val_loss: 0.9098 - val_acc: 0.8349\n",
      "Epoch 7/10\n",
      "15000/15000 [==============================] - 7s 449us/step - loss: 1.2896e-07 - acc: 1.0000 - val_loss: 0.9398 - val_acc: 0.8389\n",
      "Epoch 8/10\n",
      "15000/15000 [==============================] - 7s 447us/step - loss: 1.1091e-07 - acc: 1.0000 - val_loss: 0.9493 - val_acc: 0.8386\n",
      "Epoch 9/10\n",
      "15000/15000 [==============================] - 7s 445us/step - loss: 1.0993e-07 - acc: 1.0000 - val_loss: 0.9546 - val_acc: 0.8397\n",
      "Epoch 10/10\n",
      "15000/15000 [==============================] - 7s 451us/step - loss: 1.0974e-07 - acc: 1.0000 - val_loss: 0.9571 - val_acc: 0.8392\n"
     ]
    }
   ],
   "source": [
    "compile()\n",
    "history = fit()"
   ]
  },
  {
   "cell_type": "code",
   "execution_count": 43,
   "metadata": {},
   "outputs": [
    {
     "data": {
      "image/png": "[encoded data removed]",
      "text/plain": [
       "<Figure size 432x288 with 1 Axes>"
      ]
     },
     "metadata": {},
     "output_type": "display_data"
    },
    {
     "data": {
      "image/png": "[encoded data removed]",
      "text/plain": [
       "<Figure size 432x288 with 1 Axes>"
      ]
     },
     "metadata": {},
     "output_type": "display_data"
    }
   ],
   "source": [
    "create_plots(history.history)"
   ]
  },
  {
   "cell_type": "markdown",
   "metadata": {},
   "source": [
    "With about 85 % accuracy, it looks like we are better off creating our own embedded words, but the overfitting is terrible."
   ]
  },
  {
   "cell_type": "markdown",
   "metadata": {},
   "source": [
    "## Create Model With Dropout"
   ]
  },
  {
   "cell_type": "code",
   "execution_count": 44,
   "metadata": {},
   "outputs": [],
   "source": [
    "model = Sequential()\n",
    "model.add(Embedding(max_words, 100, input_length=maxlen))\n",
    "model.add(Flatten())\n",
    "model.add(Dense(16, activation='relu'))\n",
    "model.add(Dropout(0.5))\n",
    "model.add(Dense(16, activation='relu'))\n",
    "model.add(Dropout(0.5))\n",
    "model.add(Dense(1, activation='sigmoid'))"
   ]
  },
  {
   "cell_type": "code",
   "execution_count": 45,
   "metadata": {},
   "outputs": [
    {
     "name": "stdout",
     "output_type": "stream",
     "text": [
      "Train on 15000 samples, validate on 10000 samples\n",
      "Epoch 1/10\n",
      "15000/15000 [==============================] - 6s 419us/step - loss: 0.5849 - acc: 0.6712 - val_loss: 0.3876 - val_acc: 0.8210\n",
      "Epoch 2/10\n",
      "15000/15000 [==============================] - 6s 386us/step - loss: 0.3059 - acc: 0.8893 - val_loss: 0.3337 - val_acc: 0.8590\n",
      "Epoch 3/10\n",
      "15000/15000 [==============================] - 6s 385us/step - loss: 0.1396 - acc: 0.9583 - val_loss: 0.4608 - val_acc: 0.8611\n",
      "Epoch 4/10\n",
      "15000/15000 [==============================] - 6s 382us/step - loss: 0.0598 - acc: 0.9839 - val_loss: 0.6962 - val_acc: 0.8588\n",
      "Epoch 5/10\n",
      "15000/15000 [==============================] - 6s 382us/step - loss: 0.0295 - acc: 0.9924 - val_loss: 1.0252 - val_acc: 0.8513\n",
      "Epoch 6/10\n",
      "15000/15000 [==============================] - 6s 385us/step - loss: 0.0177 - acc: 0.9952 - val_loss: 1.2432 - val_acc: 0.8472\n",
      "Epoch 7/10\n",
      "15000/15000 [==============================] - 6s 383us/step - loss: 0.0164 - acc: 0.9951 - val_loss: 1.4604 - val_acc: 0.8515\n",
      "Epoch 8/10\n",
      "15000/15000 [==============================] - 6s 384us/step - loss: 0.0145 - acc: 0.9966 - val_loss: 1.5141 - val_acc: 0.8511\n",
      "Epoch 9/10\n",
      "15000/15000 [==============================] - 6s 383us/step - loss: 0.0150 - acc: 0.9961 - val_loss: 1.5875 - val_acc: 0.8504\n",
      "Epoch 10/10\n",
      "15000/15000 [==============================] - 6s 386us/step - loss: 0.0135 - acc: 0.9957 - val_loss: 1.6901 - val_acc: 0.8482\n"
     ]
    }
   ],
   "source": [
    "compile()\n",
    "history = fit()"
   ]
  },
  {
   "cell_type": "code",
   "execution_count": 46,
   "metadata": {},
   "outputs": [
    {
     "data": {
      "image/png": "[encoded data removed]",
      "text/plain": [
       "<Figure size 432x288 with 1 Axes>"
      ]
     },
     "metadata": {},
     "output_type": "display_data"
    },
    {
     "data": {
      "image/png": "[encoded data removed]",
      "text/plain": [
       "<Figure size 432x288 with 1 Axes>"
      ]
     },
     "metadata": {},
     "output_type": "display_data"
    }
   ],
   "source": [
    "create_plots(history.history)"
   ]
  },
  {
   "cell_type": "markdown",
   "metadata": {},
   "source": [
    "With Dropout and decreasing the hidden unit size, we are able to bump accuracy up to 85% but overfitting is still terrible."
   ]
  },
  {
   "cell_type": "markdown",
   "metadata": {},
   "source": [
    "## Simple RNN"
   ]
  },
  {
   "cell_type": "code",
   "execution_count": 47,
   "metadata": {},
   "outputs": [],
   "source": [
    "from keras.layers import SimpleRNN\n",
    "model = Sequential()\n",
    "model.add(Embedding(max_words, 100, input_length=maxlen))\n",
    "model.add(SimpleRNN(32))\n",
    "model.add(Dense(1, activation='sigmoid'))"
   ]
  },
  {
   "cell_type": "code",
   "execution_count": 48,
   "metadata": {},
   "outputs": [],
   "source": [
    "compile()"
   ]
  },
  {
   "cell_type": "code",
   "execution_count": 49,
   "metadata": {},
   "outputs": [
    {
     "name": "stdout",
     "output_type": "stream",
     "text": [
      "Train on 15000 samples, validate on 10000 samples\n",
      "Epoch 1/10\n",
      "15000/15000 [==============================] - 23s 2ms/step - loss: 0.5558 - acc: 0.6966 - val_loss: 0.4313 - val_acc: 0.8114\n",
      "Epoch 2/10\n",
      "15000/15000 [==============================] - 23s 2ms/step - loss: 0.3261 - acc: 0.8663 - val_loss: 0.4724 - val_acc: 0.7918\n",
      "Epoch 3/10\n",
      "15000/15000 [==============================] - 22s 1ms/step - loss: 0.1910 - acc: 0.9274 - val_loss: 0.4273 - val_acc: 0.8386\n",
      "Epoch 4/10\n",
      "15000/15000 [==============================] - 22s 1ms/step - loss: 0.0948 - acc: 0.9683 - val_loss: 0.5269 - val_acc: 0.8036\n",
      "Epoch 5/10\n",
      "15000/15000 [==============================] - 22s 1ms/step - loss: 0.0459 - acc: 0.9854 - val_loss: 0.6633 - val_acc: 0.7757\n",
      "Epoch 6/10\n",
      "15000/15000 [==============================] - 22s 1ms/step - loss: 0.0248 - acc: 0.9923 - val_loss: 0.8175 - val_acc: 0.7486\n",
      "Epoch 7/10\n",
      "15000/15000 [==============================] - 23s 2ms/step - loss: 0.0115 - acc: 0.9966 - val_loss: 0.8072 - val_acc: 0.7964\n",
      "Epoch 8/10\n",
      "15000/15000 [==============================] - 22s 1ms/step - loss: 0.0083 - acc: 0.9975 - val_loss: 1.0517 - val_acc: 0.7340\n",
      "Epoch 9/10\n",
      "15000/15000 [==============================] - 22s 1ms/step - loss: 0.0060 - acc: 0.9983 - val_loss: 0.9918 - val_acc: 0.7708\n",
      "Epoch 10/10\n",
      "15000/15000 [==============================] - 22s 1ms/step - loss: 0.0036 - acc: 0.9991 - val_loss: 1.0825 - val_acc: 0.7530\n"
     ]
    }
   ],
   "source": [
    "history = fit()"
   ]
  },
  {
   "cell_type": "code",
   "execution_count": 51,
   "metadata": {},
   "outputs": [
    {
     "data": {
      "text/plain": [
       "(15000, 150)"
      ]
     },
     "execution_count": 51,
     "metadata": {},
     "output_type": "execute_result"
    }
   ],
   "source": [
    "x_train.shape"
   ]
  },
  {
   "cell_type": "code",
   "execution_count": null,
   "metadata": {},
   "outputs": [],
   "source": []
  }
 ],
 "metadata": {
  "kernelspec": {
   "display_name": "Python 3",
   "language": "python",
   "name": "python3"
  },
  "language_info": {
   "codemirror_mode": {
    "name": "ipython",
    "version": 3
   },
   "file_extension": ".py",
   "mimetype": "text/x-python",
   "name": "python",
   "nbconvert_exporter": "python",
   "pygments_lexer": "ipython3",
   "version": "3.6.5"
  }
 },
 "nbformat": 4,
 "nbformat_minor": 2
}
