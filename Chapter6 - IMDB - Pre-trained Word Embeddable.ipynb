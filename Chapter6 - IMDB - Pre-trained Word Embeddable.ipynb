{
 "cells": [
  {
   "cell_type": "code",
   "execution_count": 1,
   "metadata": {},
   "outputs": [],
   "source": [
    "import os"
   ]
  },
  {
   "cell_type": "code",
   "execution_count": 2,
   "metadata": {},
   "outputs": [],
   "source": [
    "imdb_dir = \"./data/aclImdb\""
   ]
  },
  {
   "cell_type": "code",
   "execution_count": 3,
   "metadata": {},
   "outputs": [],
   "source": [
    "train_dir = os.path.join(imdb_dir, 'train')"
   ]
  },
  {
   "cell_type": "markdown",
   "metadata": {},
   "source": [
    "### Extract labels and data from files"
   ]
  },
  {
   "cell_type": "code",
   "execution_count": 4,
   "metadata": {},
   "outputs": [],
   "source": [
    "labels = []\n",
    "texts = []"
   ]
  },
  {
   "cell_type": "code",
   "execution_count": 5,
   "metadata": {},
   "outputs": [],
   "source": [
    "for label_type in ['neg', 'pos']:\n",
    "    dir_name = os.path.join(train_dir, label_type)\n",
    "    for fname in os.listdir(dir_name):\n",
    "        if fname[-4:] == '.txt':\n",
    "            f = open(os.path.join(dir_name, fname))\n",
    "            texts.append(f.read())\n",
    "            f.close()\n",
    "            if label_type == 'neg':\n",
    "                labels.append(0)\n",
    "            else:\n",
    "                labels.append(1)"
   ]
  },
  {
   "cell_type": "code",
   "execution_count": 6,
   "metadata": {},
   "outputs": [
    {
     "data": {
      "text/plain": [
       "25000"
      ]
     },
     "execution_count": 6,
     "metadata": {},
     "output_type": "execute_result"
    }
   ],
   "source": [
    "len(labels)"
   ]
  },
  {
   "cell_type": "code",
   "execution_count": 7,
   "metadata": {},
   "outputs": [
    {
     "data": {
      "text/plain": [
       "25000"
      ]
     },
     "execution_count": 7,
     "metadata": {},
     "output_type": "execute_result"
    }
   ],
   "source": [
    "len(texts)"
   ]
  },
  {
   "cell_type": "code",
   "execution_count": 8,
   "metadata": {},
   "outputs": [
    {
     "data": {
      "text/plain": [
       "\"Story of a man who has unnatural feelings for a pig. Starts out with a opening scene that is a terrific example of absurd comedy. A formal orchestra audience is turned into an insane, violent mob by the crazy chantings of it's singers. Unfortunately it stays absurd the WHOLE time with no general narrative eventually making it just too off putting. Even those from the era should be turned off. The cryptic dialogue would make Shakespeare seem easy to a third grader. On a technical level it's better than you might think with some good cinematography by future great Vilmos Zsigmond. Future stars Sally Kirkland and Frederic Forrest can be seen briefly.\""
      ]
     },
     "execution_count": 8,
     "metadata": {},
     "output_type": "execute_result"
    }
   ],
   "source": [
    "texts[0]"
   ]
  },
  {
   "cell_type": "code",
   "execution_count": 9,
   "metadata": {},
   "outputs": [],
   "source": [
    "text_length = [len(text.split()) for text in texts]"
   ]
  },
  {
   "cell_type": "code",
   "execution_count": 10,
   "metadata": {},
   "outputs": [
    {
     "name": "stderr",
     "output_type": "stream",
     "text": [
      "/usr/local/lib/python3.6/site-packages/matplotlib/font_manager.py:278: UserWarning: Matplotlib is building the font cache using fc-list. This may take a moment.\n",
      "  'Matplotlib is building the font cache using fc-list. '\n"
     ]
    },
    {
     "data": {
      "text/plain": [
       "<Figure size 640x480 with 1 Axes>"
      ]
     },
     "metadata": {},
     "output_type": "display_data"
    }
   ],
   "source": [
    "import matplotlib.pyplot as plt\n",
    "plt.hist(text_length, bins=40)\n",
    "\n",
    "plt.show()"
   ]
  },
  {
   "cell_type": "markdown",
   "metadata": {},
   "source": [
    "### Tokenize data\n"
   ]
  },
  {
   "cell_type": "code",
   "execution_count": 11,
   "metadata": {},
   "outputs": [
    {
     "name": "stderr",
     "output_type": "stream",
     "text": [
      "/usr/local/lib/python3.6/site-packages/h5py/__init__.py:36: FutureWarning: Conversion of the second argument of issubdtype from `float` to `np.floating` is deprecated. In future, it will be treated as `np.float64 == np.dtype(float).type`.\n",
      "  from ._conv import register_converters as _register_converters\n",
      "Using TensorFlow backend.\n"
     ]
    }
   ],
   "source": [
    "from keras.preprocessing.text import Tokenizer\n",
    "from keras.preprocessing.sequence import pad_sequences\n",
    "import numpy as np"
   ]
  },
  {
   "cell_type": "code",
   "execution_count": 70,
   "metadata": {},
   "outputs": [],
   "source": [
    "maxlen = 150 # cuts off text after this number of words\n",
    "training_samples = 15000\n",
    "validation_samples = 10000\n",
    "max_words = 10000"
   ]
  },
  {
   "cell_type": "code",
   "execution_count": 13,
   "metadata": {},
   "outputs": [],
   "source": [
    "tokenizer = Tokenizer(num_words=max_words)"
   ]
  },
  {
   "cell_type": "code",
   "execution_count": 14,
   "metadata": {},
   "outputs": [],
   "source": [
    "tokenizer.fit_on_texts(texts)\n",
    "sequences = tokenizer.texts_to_sequences(texts)"
   ]
  },
  {
   "cell_type": "code",
   "execution_count": 15,
   "metadata": {},
   "outputs": [
    {
     "name": "stdout",
     "output_type": "stream",
     "text": [
      "Found 88582 tokens\n"
     ]
    }
   ],
   "source": [
    "word_index = tokenizer.word_index\n",
    "print('Found {} tokens'.format(len(word_index)))"
   ]
  },
  {
   "cell_type": "markdown",
   "metadata": {},
   "source": [
    "### Create data and labels from tokens"
   ]
  },
  {
   "cell_type": "code",
   "execution_count": 16,
   "metadata": {},
   "outputs": [],
   "source": [
    "data = pad_sequences(sequences, maxlen=maxlen)"
   ]
  },
  {
   "cell_type": "code",
   "execution_count": 17,
   "metadata": {},
   "outputs": [],
   "source": [
    "labels = np.asarray(labels)"
   ]
  },
  {
   "cell_type": "code",
   "execution_count": 18,
   "metadata": {},
   "outputs": [
    {
     "name": "stdout",
     "output_type": "stream",
     "text": [
      "Shape of data tensor: (25000, 150)\n"
     ]
    }
   ],
   "source": [
    "print('Shape of data tensor:', data.shape)"
   ]
  },
  {
   "cell_type": "code",
   "execution_count": 19,
   "metadata": {},
   "outputs": [
    {
     "name": "stdout",
     "output_type": "stream",
     "text": [
      "Shape of label tensor (25000,)\n"
     ]
    }
   ],
   "source": [
    "print('Shape of label tensor', labels.shape)"
   ]
  },
  {
   "cell_type": "markdown",
   "metadata": {},
   "source": [
    "#### Randomize the order of training data"
   ]
  },
  {
   "cell_type": "code",
   "execution_count": 20,
   "metadata": {},
   "outputs": [],
   "source": [
    "indices = np.arange(data.shape[0])"
   ]
  },
  {
   "cell_type": "code",
   "execution_count": 21,
   "metadata": {},
   "outputs": [],
   "source": [
    "np.random.shuffle(indices)"
   ]
  },
  {
   "cell_type": "code",
   "execution_count": 22,
   "metadata": {},
   "outputs": [
    {
     "data": {
      "text/plain": [
       "numpy.ndarray"
      ]
     },
     "execution_count": 22,
     "metadata": {},
     "output_type": "execute_result"
    }
   ],
   "source": [
    "type(data)"
   ]
  },
  {
   "cell_type": "code",
   "execution_count": 23,
   "metadata": {},
   "outputs": [],
   "source": [
    "data = data[indices]"
   ]
  },
  {
   "cell_type": "code",
   "execution_count": 24,
   "metadata": {},
   "outputs": [],
   "source": [
    "labels = labels[indices]"
   ]
  },
  {
   "cell_type": "markdown",
   "metadata": {},
   "source": [
    "### Split training and validation data"
   ]
  },
  {
   "cell_type": "code",
   "execution_count": 71,
   "metadata": {},
   "outputs": [],
   "source": [
    "x_train =  data[:training_samples]\n",
    "y_train = labels[:training_samples]\n",
    "x_val = data[training_samples: training_samples + validation_samples]\n",
    "y_val = labels[training_samples: training_samples + validation_samples]"
   ]
  },
  {
   "cell_type": "markdown",
   "metadata": {},
   "source": [
    "### Pull down pre-trained word-embeddings (GloVe)"
   ]
  },
  {
   "cell_type": "code",
   "execution_count": 33,
   "metadata": {},
   "outputs": [
    {
     "data": {
      "text/plain": [
       "<function TextIOWrapper.close()>"
      ]
     },
     "execution_count": 33,
     "metadata": {},
     "output_type": "execute_result"
    }
   ],
   "source": [
    "embedding_index = {}\n",
    "f = open(os.path.expanduser('~/Library/Projects/data-science/data/GloVe-1.2/vectors.txt'))\n",
    "for line in f:\n",
    "    values = line.split()\n",
    "    word = values[0]\n",
    "    coefs = np.asarray(values[1:], dtype='float32')\n",
    "    embedding_index[word] = coefs\n",
    "f.close"
   ]
  },
  {
   "cell_type": "code",
   "execution_count": 40,
   "metadata": {},
   "outputs": [
    {
     "name": "stdout",
     "output_type": "stream",
     "text": [
      "Found 71291 words\n"
     ]
    }
   ],
   "source": [
    "print('Found {} words'.format(len(embedding_index)))"
   ]
  },
  {
   "cell_type": "markdown",
   "metadata": {},
   "source": [
    "### Prepare GloVe matrix"
   ]
  },
  {
   "cell_type": "code",
   "execution_count": 43,
   "metadata": {},
   "outputs": [],
   "source": [
    "embedding_dim = 50\n",
    "\n",
    "embedding_matrix = np.zeros((max_words, embedding_dim))\n",
    "# using words from our own word_index, build a matrix from GloVe word vectors\n",
    "for word, i in word_index.items():\n",
    "    if i >= max_words:\n",
    "        break\n",
    "    embedding_vector = embedding_index.get(word)\n",
    "    if embedding_vector is not None:\n",
    "        embedding_matrix[i] = embedding_vector"
   ]
  },
  {
   "cell_type": "markdown",
   "metadata": {},
   "source": [
    "# Create Model On Pretrained Word Embedding"
   ]
  },
  {
   "cell_type": "code",
   "execution_count": 84,
   "metadata": {},
   "outputs": [],
   "source": [
    "from keras.models import Sequential\n",
    "from keras.layers import Dense, Embedding, Flatten, Dropout\n",
    "\n",
    "model = Sequential()\n",
    "model.add(Embedding(max_words, embedding_dim, input_length=maxlen))\n",
    "model.add(Dropout(.2))\n",
    "model.add(Flatten())\n",
    "model.add(Dense(32, activation='relu'))\n",
    "model.add(Dense(1, activation='sigmoid'))"
   ]
  },
  {
   "cell_type": "code",
   "execution_count": 85,
   "metadata": {},
   "outputs": [
    {
     "name": "stdout",
     "output_type": "stream",
     "text": [
      "_________________________________________________________________\n",
      "Layer (type)                 Output Shape              Param #   \n",
      "=================================================================\n",
      "embedding_4 (Embedding)      (None, 150, 50)           500000    \n",
      "_________________________________________________________________\n",
      "dropout_1 (Dropout)          (None, 150, 50)           0         \n",
      "_________________________________________________________________\n",
      "flatten_4 (Flatten)          (None, 7500)              0         \n",
      "_________________________________________________________________\n",
      "dense_7 (Dense)              (None, 32)                240032    \n",
      "_________________________________________________________________\n",
      "dense_8 (Dense)              (None, 1)                 33        \n",
      "=================================================================\n",
      "Total params: 740,065\n",
      "Trainable params: 740,065\n",
      "Non-trainable params: 0\n",
      "_________________________________________________________________\n"
     ]
    }
   ],
   "source": [
    "model.summary()"
   ]
  },
  {
   "cell_type": "markdown",
   "metadata": {},
   "source": [
    "### Set Embedded Words"
   ]
  },
  {
   "cell_type": "code",
   "execution_count": 86,
   "metadata": {},
   "outputs": [],
   "source": [
    "model.layers[0].set_weights([embedding_matrix])"
   ]
  },
  {
   "cell_type": "code",
   "execution_count": 87,
   "metadata": {},
   "outputs": [],
   "source": [
    "model.layers[0].trainable=False"
   ]
  },
  {
   "cell_type": "markdown",
   "metadata": {},
   "source": [
    "### Compile and run"
   ]
  },
  {
   "cell_type": "code",
   "execution_count": 90,
   "metadata": {},
   "outputs": [],
   "source": [
    "def compile():\n",
    "    model.compile(\n",
    "        optimizer='rmsprop',\n",
    "        loss='binary_crossentropy',\n",
    "        metrics=['acc']\n",
    "    )"
   ]
  },
  {
   "cell_type": "code",
   "execution_count": 95,
   "metadata": {},
   "outputs": [],
   "source": [
    "def fit():\n",
    "    return model.fit(\n",
    "        x_train,\n",
    "        y_train,\n",
    "        epochs=10,\n",
    "        batch_size=32,\n",
    "        validation_data=[x_val, y_val]\n",
    "    )"
   ]
  },
  {
   "cell_type": "code",
   "execution_count": 92,
   "metadata": {},
   "outputs": [
    {
     "name": "stdout",
     "output_type": "stream",
     "text": [
      "Train on 15000 samples, validate on 10000 samples\n",
      "Epoch 1/10\n",
      "15000/15000 [==============================] - 2s 158us/step - loss: 0.3134 - acc: 0.8582 - val_loss: 0.9034 - val_acc: 0.6090\n",
      "Epoch 2/10\n",
      "15000/15000 [==============================] - 2s 149us/step - loss: 0.2825 - acc: 0.8749 - val_loss: 0.8981 - val_acc: 0.6276\n",
      "Epoch 3/10\n",
      "15000/15000 [==============================] - 2s 146us/step - loss: 0.2586 - acc: 0.8868 - val_loss: 1.0715 - val_acc: 0.6118\n",
      "Epoch 4/10\n",
      "15000/15000 [==============================] - 2s 141us/step - loss: 0.2420 - acc: 0.8966 - val_loss: 0.9620 - val_acc: 0.6202\n",
      "Epoch 5/10\n",
      "15000/15000 [==============================] - 2s 139us/step - loss: 0.2189 - acc: 0.9069 - val_loss: 1.1832 - val_acc: 0.5989\n",
      "Epoch 6/10\n",
      "15000/15000 [==============================] - 2s 159us/step - loss: 0.1979 - acc: 0.9155 - val_loss: 1.2510 - val_acc: 0.6048\n",
      "Epoch 7/10\n",
      "15000/15000 [==============================] - 2s 161us/step - loss: 0.1886 - acc: 0.9211 - val_loss: 1.3701 - val_acc: 0.6097\n",
      "Epoch 8/10\n",
      "15000/15000 [==============================] - 2s 141us/step - loss: 0.1705 - acc: 0.9299 - val_loss: 1.0758 - val_acc: 0.6056\n",
      "Epoch 9/10\n",
      "15000/15000 [==============================] - 2s 138us/step - loss: 0.1619 - acc: 0.9349 - val_loss: 1.3467 - val_acc: 0.6040\n",
      "Epoch 10/10\n",
      "15000/15000 [==============================] - 2s 143us/step - loss: 0.1486 - acc: 0.9416 - val_loss: 1.2977 - val_acc: 0.6040\n"
     ]
    }
   ],
   "source": [
    "compile()\n",
    "history = fit()"
   ]
  },
  {
   "cell_type": "code",
   "execution_count": 79,
   "metadata": {},
   "outputs": [],
   "source": [
    "model.save_weights('./data/glove_model.h5')"
   ]
  },
  {
   "cell_type": "markdown",
   "metadata": {},
   "source": [
    "### Make simple prediction"
   ]
  },
  {
   "cell_type": "code",
   "execution_count": 80,
   "metadata": {},
   "outputs": [
    {
     "data": {
      "text/plain": [
       "array([[0.8083868 ],\n",
       "       [0.54099125],\n",
       "       [0.03899301],\n",
       "       ...,\n",
       "       [0.06764617],\n",
       "       [0.9425466 ],\n",
       "       [0.98411924]], dtype=float32)"
      ]
     },
     "execution_count": 80,
     "metadata": {},
     "output_type": "execute_result"
    }
   ],
   "source": [
    "model.predict(x_val)"
   ]
  },
  {
   "cell_type": "code",
   "execution_count": 81,
   "metadata": {},
   "outputs": [
    {
     "data": {
      "text/plain": [
       "array([1, 0, 0, ..., 0, 1, 0])"
      ]
     },
     "execution_count": 81,
     "metadata": {},
     "output_type": "execute_result"
    }
   ],
   "source": [
    "y_val"
   ]
  },
  {
   "cell_type": "markdown",
   "metadata": {},
   "source": [
    "### Plot Results"
   ]
  },
  {
   "cell_type": "code",
   "execution_count": 82,
   "metadata": {},
   "outputs": [],
   "source": [
    "import matplotlib.pyplot as plt\n",
    "\n",
    "def create_plots(history):\n",
    "    acc = history['acc']\n",
    "    loss = history['loss']\n",
    "    val_loss = history['val_loss']\n",
    "    val_acc = history['val_acc']\n",
    "\n",
    "    epochs = range(1, (len(acc) + 1))\n",
    "    plt.plot(epochs, acc, 'r', label='Training Accuracy')\n",
    "    plt.plot(epochs, val_acc, 'bo', label='Validation Accuracy')\n",
    "    plt.legend()\n",
    "    plt.figure()\n",
    "\n",
    "    plt.plot(epochs, loss, 'r', label='Training Loss')\n",
    "    plt.plot(epochs, val_loss, 'bo', label='Validation Loss')\n",
    "    plt.legend()\n",
    "\n",
    "    plt.show()"
   ]
  },
  {
   "cell_type": "code",
   "execution_count": 83,
   "metadata": {},
   "outputs": [
    {
     "data": {
      "image/png": "[encoded data removed]",
      "text/plain": [
       "<Figure size 432x288 with 1 Axes>"
      ]
     },
     "metadata": {},
     "output_type": "display_data"
    },
    {
     "data": {
      "image/png": "[encoded data removed]",
      "text/plain": [
       "<Figure size 432x288 with 1 Axes>"
      ]
     },
     "metadata": {},
     "output_type": "display_data"
    }
   ],
   "source": [
    "create_plots(history.history)"
   ]
  },
  {
   "cell_type": "markdown",
   "metadata": {},
   "source": [
    "## Create Model With Our Own Embedding"
   ]
  },
  {
   "cell_type": "code",
   "execution_count": 97,
   "metadata": {},
   "outputs": [],
   "source": [
    "model = Sequential()\n",
    "model.add(Embedding(max_words, 100, input_length=maxlen))\n",
    "model.add(Flatten())\n",
    "model.add(Dense(32, activation='relu'))\n",
    "model.add(Dense(1, activation='sigmoid'))"
   ]
  },
  {
   "cell_type": "code",
   "execution_count": 98,
   "metadata": {},
   "outputs": [
    {
     "name": "stdout",
     "output_type": "stream",
     "text": [
      "Train on 15000 samples, validate on 10000 samples\n",
      "Epoch 1/10\n",
      "15000/15000 [==============================] - 7s 489us/step - loss: 0.4407 - acc: 0.7777 - val_loss: 0.3230 - val_acc: 0.8622\n",
      "Epoch 2/10\n",
      "15000/15000 [==============================] - 7s 470us/step - loss: 0.1108 - acc: 0.9610 - val_loss: 0.4075 - val_acc: 0.8460\n",
      "Epoch 3/10\n",
      "15000/15000 [==============================] - 7s 466us/step - loss: 0.0095 - acc: 0.9971 - val_loss: 0.5980 - val_acc: 0.8444\n",
      "Epoch 4/10\n",
      "15000/15000 [==============================] - 7s 465us/step - loss: 9.4724e-04 - acc: 0.9997 - val_loss: 0.8130 - val_acc: 0.8415\n",
      "Epoch 5/10\n",
      "15000/15000 [==============================] - 7s 471us/step - loss: 9.5434e-06 - acc: 1.0000 - val_loss: 0.9572 - val_acc: 0.8371\n",
      "Epoch 6/10\n",
      "15000/15000 [==============================] - 7s 469us/step - loss: 2.5151e-07 - acc: 1.0000 - val_loss: 1.0346 - val_acc: 0.8385\n",
      "Epoch 7/10\n",
      "15000/15000 [==============================] - 8s 506us/step - loss: 1.1550e-07 - acc: 1.0000 - val_loss: 1.0573 - val_acc: 0.8373\n",
      "Epoch 8/10\n",
      "15000/15000 [==============================] - 8s 512us/step - loss: 1.1038e-07 - acc: 1.0000 - val_loss: 1.0625 - val_acc: 0.8380\n",
      "Epoch 9/10\n",
      "15000/15000 [==============================] - 7s 494us/step - loss: 1.0990e-07 - acc: 1.0000 - val_loss: 1.0671 - val_acc: 0.8383\n",
      "Epoch 10/10\n",
      "15000/15000 [==============================] - 8s 524us/step - loss: 1.0988e-07 - acc: 1.0000 - val_loss: 1.0672 - val_acc: 0.8385\n"
     ]
    }
   ],
   "source": [
    "compile()\n",
    "history = fit()"
   ]
  },
  {
   "cell_type": "code",
   "execution_count": 101,
   "metadata": {},
   "outputs": [
    {
     "data": {
      "image/png": "[encoded data removed]",
      "text/plain": [
       "<Figure size 432x288 with 1 Axes>"
      ]
     },
     "metadata": {},
     "output_type": "display_data"
    },
    {
     "data": {
      "image/png": "[encoded data removed]",
      "text/plain": [
       "<Figure size 432x288 with 1 Axes>"
      ]
     },
     "metadata": {},
     "output_type": "display_data"
    }
   ],
   "source": [
    "create_plots(history.history)"
   ]
  },
  {
   "cell_type": "markdown",
   "metadata": {},
   "source": [
    "With about 85 % accuracy, it looks like we are better off creating our own embedded words, but the overfitting is terrible."
   ]
  },
  {
   "cell_type": "markdown",
   "metadata": {},
   "source": [
    "## Create Model With Dropout"
   ]
  },
  {
   "cell_type": "code",
   "execution_count": 106,
   "metadata": {},
   "outputs": [],
   "source": [
    "model = Sequential()\n",
    "model.add(Embedding(max_words, 100, input_length=maxlen))\n",
    "model.add(Flatten())\n",
    "model.add(Dense(16, activation='relu'))\n",
    "model.add(Dropout(0.5))\n",
    "model.add(Dense(16, activation='relu'))\n",
    "model.add(Dropout(0.5))\n",
    "model.add(Dense(1, activation='sigmoid'))"
   ]
  },
  {
   "cell_type": "code",
   "execution_count": 107,
   "metadata": {},
   "outputs": [
    {
     "name": "stdout",
     "output_type": "stream",
     "text": [
      "Train on 15000 samples, validate on 10000 samples\n",
      "Epoch 1/10\n",
      "15000/15000 [==============================] - 7s 484us/step - loss: 0.6165 - acc: 0.6408 - val_loss: 0.3982 - val_acc: 0.8286\n",
      "Epoch 2/10\n",
      "15000/15000 [==============================] - 7s 440us/step - loss: 0.3326 - acc: 0.8806 - val_loss: 0.3426 - val_acc: 0.8590\n",
      "Epoch 3/10\n",
      "15000/15000 [==============================] - 7s 441us/step - loss: 0.1618 - acc: 0.9491 - val_loss: 0.4105 - val_acc: 0.8577\n",
      "Epoch 4/10\n",
      "15000/15000 [==============================] - 7s 441us/step - loss: 0.0641 - acc: 0.9817 - val_loss: 0.7451 - val_acc: 0.8582\n",
      "Epoch 5/10\n",
      "15000/15000 [==============================] - 7s 438us/step - loss: 0.0296 - acc: 0.9911 - val_loss: 1.0164 - val_acc: 0.8530\n",
      "Epoch 6/10\n",
      "15000/15000 [==============================] - 7s 442us/step - loss: 0.0240 - acc: 0.9942 - val_loss: 1.2134 - val_acc: 0.8526\n",
      "Epoch 7/10\n",
      "15000/15000 [==============================] - 7s 453us/step - loss: 0.0193 - acc: 0.9947 - val_loss: 1.3542 - val_acc: 0.8498\n",
      "Epoch 8/10\n",
      "15000/15000 [==============================] - 7s 461us/step - loss: 0.0142 - acc: 0.9956 - val_loss: 1.5394 - val_acc: 0.8493\n",
      "Epoch 9/10\n",
      "15000/15000 [==============================] - 7s 455us/step - loss: 0.0148 - acc: 0.9958 - val_loss: 1.6330 - val_acc: 0.8505\n",
      "Epoch 10/10\n",
      "15000/15000 [==============================] - 7s 447us/step - loss: 0.0127 - acc: 0.9971 - val_loss: 1.6007 - val_acc: 0.8500\n"
     ]
    }
   ],
   "source": [
    "compile()\n",
    "history = fit()"
   ]
  },
  {
   "cell_type": "code",
   "execution_count": 108,
   "metadata": {},
   "outputs": [
    {
     "data": {
      "image/png": "[encoded data removed]",
      "text/plain": [
       "<Figure size 432x288 with 1 Axes>"
      ]
     },
     "metadata": {},
     "output_type": "display_data"
    },
    {
     "data": {
      "image/png": "[encoded data removed]",
      "text/plain": [
       "<Figure size 432x288 with 1 Axes>"
      ]
     },
     "metadata": {},
     "output_type": "display_data"
    }
   ],
   "source": [
    "create_plots(history.history)"
   ]
  },
  {
   "cell_type": "markdown",
   "metadata": {},
   "source": [
    "With Dropout and decreasing the hidden unit size, we are able to bump accuracy up to 85% but overfitting is still terrible."
   ]
  },
  {
   "cell_type": "code",
   "execution_count": null,
   "metadata": {},
   "outputs": [],
   "source": []
  }
 ],
 "metadata": {
  "kernelspec": {
   "display_name": "Python 3",
   "language": "python",
   "name": "python3"
  },
  "language_info": {
   "codemirror_mode": {
    "name": "ipython",
    "version": 3
   },
   "file_extension": ".py",
   "mimetype": "text/x-python",
   "name": "python",
   "nbconvert_exporter": "python",
   "pygments_lexer": "ipython3",
   "version": "3.6.5"
  }
 },
 "nbformat": 4,
 "nbformat_minor": 2
}
